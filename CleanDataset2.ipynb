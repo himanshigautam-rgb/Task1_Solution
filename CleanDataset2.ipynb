{
 "cells": [
  {
   "cell_type": "code",
   "execution_count": null,
   "id": "83b31c65-3b43-4310-82b1-a31cfbba0837",
   "metadata": {},
   "outputs": [],
   "source": [
    "# Drop rows with missing Description\n",
    "df_cleaned = df.dropna(subset=['Description'])\n",
    "\n",
    "# Remove invalid Quantity and UnitPrice\n",
    "df_cleaned = df_cleaned[(df_cleaned['Quantity'] > 0) & (df_cleaned['UnitPrice'] > 0)]\n",
    "\n",
    "# Convert InvoiceDate to datetime\n",
    "df_cleaned['InvoiceDate'] = pd.to_datetime(df_cleaned['InvoiceDate'])\n",
    "\n",
    "# Standardize Country names\n",
    "df_cleaned['Country'] = df_cleaned['Country'].str.strip().str.title()\n",
    "\n",
    "# Rename columns\n",
    "df_cleaned.columns = df_cleaned.columns.str.lower().str.replace(' ', '_')\n",
    "\n",
    "# Convert selected columns to string\n",
    "df_cleaned = df_cleaned.astype({\n",
    "    'invoice_no': 'str',\n",
    "    'stockcode': 'str',\n",
    "    'customerid': 'str'\n",
    "})\n",
    "\n",
    "# Remove duplicate rows\n",
    "df_cleaned = df_cleaned.drop_duplicates()\n",
    "\n",
    "# Add total_price column\n",
    "df_cleaned['total_price'] = df_cleaned['quantity'] * df_cleaned['unitprice']\n",
    "\n",
    "\n",
    "df_cleaned.head()\n"
   ]
  }
 ],
 "metadata": {
  "kernelspec": {
   "display_name": "Python 3 (ipykernel)",
   "language": "python",
   "name": "python3"
  },
  "language_info": {
   "codemirror_mode": {
    "name": "ipython",
    "version": 3
   },
   "file_extension": ".py",
   "mimetype": "text/x-python",
   "name": "python",
   "nbconvert_exporter": "python",
   "pygments_lexer": "ipython3",
   "version": "3.12.7"
  }
 },
 "nbformat": 4,
 "nbformat_minor": 5
}
