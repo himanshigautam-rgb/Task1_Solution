{
 "cells": [
  {
   "cell_type": "code",
   "execution_count": null,
   "id": "a59ad1b4-6c34-437a-b73c-fd0b346aee3a",
   "metadata": {},
   "outputs": [],
   "source": [
    "import pandas as pd\n",
    "\n",
    "# Load the dataset\n",
    "file_path = \"/mnt/data/OnlineRetail.csv\"\n",
    "df = pd.read_csv(file_path, encoding='ISO-8859-1')\n",
    "\n",
    "df_info = df.info()\n",
    "df_head = df.head()\n",
    "df_null_summary = df.isnull().sum()\n",
    "\n",
    "df_info, df_head, df_null_summary\n"
   ]
  }
 ],
 "metadata": {
  "kernelspec": {
   "display_name": "Python 3 (ipykernel)",
   "language": "python",
   "name": "python3"
  },
  "language_info": {
   "codemirror_mode": {
    "name": "ipython",
    "version": 3
   },
   "file_extension": ".py",
   "mimetype": "text/x-python",
   "name": "python",
   "nbconvert_exporter": "python",
   "pygments_lexer": "ipython3",
   "version": "3.12.7"
  }
 },
 "nbformat": 4,
 "nbformat_minor": 5
}
